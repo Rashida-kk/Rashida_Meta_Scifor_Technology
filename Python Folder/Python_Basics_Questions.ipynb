{
  "nbformat": 4,
  "nbformat_minor": 0,
  "metadata": {
    "colab": {
      "provenance": []
    },
    "kernelspec": {
      "name": "python3",
      "display_name": "Python 3"
    },
    "language_info": {
      "name": "python"
    }
  },
  "cells": [
    {
      "cell_type": "markdown",
      "source": [
        "1. Find the sum of all list elements."
      ],
      "metadata": {
        "id": "51Tr_G3_KWe4"
      }
    },
    {
      "cell_type": "code",
      "execution_count": 1,
      "metadata": {
        "colab": {
          "base_uri": "https://localhost:8080/"
        },
        "id": "PPEnLaV7KB9H",
        "outputId": "a13f454c-95b7-4319-fd67-ff9e27145d5f"
      },
      "outputs": [
        {
          "output_type": "stream",
          "name": "stdout",
          "text": [
            "38\n"
          ]
        }
      ],
      "source": [
        "List = [12,8,5,10,3]\n",
        "total = sum(List)\n",
        "print(total)"
      ]
    },
    {
      "cell_type": "code",
      "source": [
        "# Using for loop\n",
        "\n",
        "List = [12,8,5,10,3]\n",
        "total = 0\n",
        "for i in List:\n",
        "    total += i\n",
        "print(f\"The sum of all elements in the List is: {total}\")"
      ],
      "metadata": {
        "colab": {
          "base_uri": "https://localhost:8080/"
        },
        "id": "FKLx8pueLHEV",
        "outputId": "443f8158-06ac-48f0-c144-15d8accaae25"
      },
      "execution_count": 3,
      "outputs": [
        {
          "output_type": "stream",
          "name": "stdout",
          "text": [
            "The sum of all elements in the List is: 38\n"
          ]
        }
      ]
    },
    {
      "cell_type": "markdown",
      "source": [
        "2. Largest elements in a list"
      ],
      "metadata": {
        "id": "T1mKUMXSMHZW"
      }
    },
    {
      "cell_type": "code",
      "source": [
        "list = [10,20,30,40,50]\n",
        "largest = list[0]\n",
        "for i in list:\n",
        "    if i > largest:\n",
        "        largest = i\n",
        "print(f\"The largest element in the list is: {largest}\")"
      ],
      "metadata": {
        "colab": {
          "base_uri": "https://localhost:8080/"
        },
        "id": "WZ3OUTtSL_4b",
        "outputId": "fd2bc699-4366-4285-8fe1-eadb7cf61097"
      },
      "execution_count": 4,
      "outputs": [
        {
          "output_type": "stream",
          "name": "stdout",
          "text": [
            "The largest element in the list is: 50\n"
          ]
        }
      ]
    },
    {
      "cell_type": "markdown",
      "source": [
        "3. Remove duplicates in a list"
      ],
      "metadata": {
        "id": "icNRhJ4INPGY"
      }
    },
    {
      "cell_type": "code",
      "source": [
        "my_list = [1,2,2,3,4,4,5]\n",
        "unique_list = []\n",
        "for i in my_list:\n",
        "  if i not in unique_list:\n",
        "    unique_list.append(i)\n",
        "print(f\"The unique list is: {unique_list}\")"
      ],
      "metadata": {
        "colab": {
          "base_uri": "https://localhost:8080/"
        },
        "id": "EeEesf-9NIDE",
        "outputId": "6d77f8c5-3945-4590-9db8-f976a3845387"
      },
      "execution_count": 9,
      "outputs": [
        {
          "output_type": "stream",
          "name": "stdout",
          "text": [
            "The unique list is: [1, 2, 3, 4, 5]\n"
          ]
        }
      ]
    },
    {
      "cell_type": "markdown",
      "source": [
        "4. Check if all elements in a list are unique"
      ],
      "metadata": {
        "id": "5R1Ax6q4P5Mq"
      }
    },
    {
      "cell_type": "code",
      "source": [
        "l = [1,3,5,7,9]\n",
        "is_unique = len(l) == len(set(l))\n",
        "print(is_unique)"
      ],
      "metadata": {
        "colab": {
          "base_uri": "https://localhost:8080/"
        },
        "id": "o-BSfd86Ole6",
        "outputId": "0455a94e-9e1b-4ce4-c9ff-b413fe1f69ee"
      },
      "execution_count": 10,
      "outputs": [
        {
          "output_type": "stream",
          "name": "stdout",
          "text": [
            "True\n"
          ]
        }
      ]
    },
    {
      "cell_type": "code",
      "source": [
        "def are_elements_unique(list):\n",
        "  return len(list) == len(set(list))\n",
        "\n",
        "print(are_elements_unique([\"apple\",\"banana\",\"orange\"]))\n",
        "print(are_elements_unique([\"apple\",\"banana\",\"apple\"]))"
      ],
      "metadata": {
        "colab": {
          "base_uri": "https://localhost:8080/"
        },
        "id": "O65ZOB96Qtj-",
        "outputId": "a232b67d-0548-472b-faa5-d0d7771d534c"
      },
      "execution_count": 11,
      "outputs": [
        {
          "output_type": "stream",
          "name": "stdout",
          "text": [
            "True\n",
            "False\n"
          ]
        }
      ]
    },
    {
      "cell_type": "markdown",
      "source": [
        "5. Programe to reverse list"
      ],
      "metadata": {
        "id": "VRwwLb1ZSOQA"
      }
    },
    {
      "cell_type": "code",
      "source": [
        "def reverse_list(list):\n",
        "  return list[::-1]\n",
        "\n",
        "print(reverse_list([2,4,6,8,10]))"
      ],
      "metadata": {
        "colab": {
          "base_uri": "https://localhost:8080/"
        },
        "id": "L8Sblie3SLk2",
        "outputId": "1be239c1-ff1e-4852-a5a2-3852969afedb"
      },
      "execution_count": 12,
      "outputs": [
        {
          "output_type": "stream",
          "name": "stdout",
          "text": [
            "[10, 8, 6, 4, 2]\n"
          ]
        }
      ]
    },
    {
      "cell_type": "markdown",
      "source": [
        "6. Count number of odd and even numbers in a list"
      ],
      "metadata": {
        "id": "HCv3ZgS1SxSJ"
      }
    },
    {
      "cell_type": "code",
      "source": [
        "numbers = [1,2,3,4,5,6,7,8,9,10]\n",
        "even_count = 0\n",
        "odd_count = 0\n",
        "for i in numbers:\n",
        "  if i % 2 == 0:\n",
        "    even_count += 1\n",
        "  else:\n",
        "    odd_count += 1\n",
        "\n",
        "print(f\"Even numbers: {even_count}\")\n",
        "print(f\"Odd numbers: {odd_count}\")"
      ],
      "metadata": {
        "colab": {
          "base_uri": "https://localhost:8080/"
        },
        "id": "QEMhAjOYSug3",
        "outputId": "9e896184-eb2b-4314-a1f4-cb2f3c11cb24"
      },
      "execution_count": 13,
      "outputs": [
        {
          "output_type": "stream",
          "name": "stdout",
          "text": [
            "Even numbers: 5\n",
            "Odd numbers: 5\n"
          ]
        }
      ]
    },
    {
      "cell_type": "markdown",
      "source": [
        "7. Check if list is subset of another list"
      ],
      "metadata": {
        "id": "R5HXq-qGT0NF"
      }
    },
    {
      "cell_type": "code",
      "source": [
        "L1 = [1,2,3,4,5]\n",
        "L2 = [2,3]\n",
        "is_subset = True\n",
        "for i in L2:\n",
        "  if i not in L1:\n",
        "    is_subset = False\n",
        "    break\n",
        "print(is_subset)"
      ],
      "metadata": {
        "colab": {
          "base_uri": "https://localhost:8080/"
        },
        "id": "XxDWzPNtTxiN",
        "outputId": "c995b6ba-2fec-4259-aa5b-574681bc14ac"
      },
      "execution_count": 14,
      "outputs": [
        {
          "output_type": "stream",
          "name": "stdout",
          "text": [
            "True\n"
          ]
        }
      ]
    },
    {
      "cell_type": "markdown",
      "source": [
        "8. Max difference between two consecutive elements in a list"
      ],
      "metadata": {
        "id": "B0qzc11RUz2N"
      }
    },
    {
      "cell_type": "code",
      "source": [
        "list = [10,7,6,9,2,0]\n",
        "max_diff = 0\n",
        "\n",
        "for i in range(len(list)-1):\n",
        "  diff = abs(list[i] - list[i+1])\n",
        "  if diff > max_diff:\n",
        "    max_diff = diff\n",
        "\n",
        "print(f\"The maximum difference between two consecutive elements in the list is: {max_diff}\")"
      ],
      "metadata": {
        "colab": {
          "base_uri": "https://localhost:8080/"
        },
        "id": "bktQMygHUqli",
        "outputId": "ddc8f756-4a17-4660-94fe-61a731713f27"
      },
      "execution_count": 16,
      "outputs": [
        {
          "output_type": "stream",
          "name": "stdout",
          "text": [
            "The maximum difference between two consecutive elements in the list is: 7\n"
          ]
        }
      ]
    },
    {
      "cell_type": "markdown",
      "source": [
        "9. Merge multiple Dictionaries"
      ],
      "metadata": {
        "id": "hKQJWB-4WRyW"
      }
    },
    {
      "cell_type": "code",
      "source": [
        "dict = [{\"a\":1,\"b\":2},{\"c\":3,\"d\":4},{\"d\":5}]\n",
        "merged_dict = {}\n",
        "\n",
        "for i in dict:\n",
        "  merged_dict.update(i)\n",
        "print(merged_dict)"
      ],
      "metadata": {
        "colab": {
          "base_uri": "https://localhost:8080/"
        },
        "id": "61dvh446Vz0R",
        "outputId": "adca5a74-e3b7-48d3-d572-7c60697dc5fd"
      },
      "execution_count": 17,
      "outputs": [
        {
          "output_type": "stream",
          "name": "stdout",
          "text": [
            "{'a': 1, 'b': 2, 'c': 3, 'd': 5}\n"
          ]
        }
      ]
    },
    {
      "cell_type": "markdown",
      "source": [
        "10. Find a words Frequency in a sentence"
      ],
      "metadata": {
        "id": "0ClsTkf4XBuw"
      }
    },
    {
      "cell_type": "code",
      "source": [
        "sentence = \"Find a words Frequency in a sentence Find a words Frequency \"\n",
        "words = sentence.split()\n",
        "frequency = {}\n",
        "\n",
        "for word in words:\n",
        "  if word in frequency:\n",
        "    frequency[word] += 1\n",
        "  else:\n",
        "    frequency[word] = 1\n",
        "\n",
        "print(frequency)"
      ],
      "metadata": {
        "colab": {
          "base_uri": "https://localhost:8080/"
        },
        "id": "wNJmzbS6W9cJ",
        "outputId": "0b27e734-e73a-437d-90af-8dec144061c8"
      },
      "execution_count": 19,
      "outputs": [
        {
          "output_type": "stream",
          "name": "stdout",
          "text": [
            "{'Find': 2, 'a': 3, 'words': 2, 'Frequency': 2, 'in': 1, 'sentence': 1}\n"
          ]
        }
      ]
    },
    {
      "cell_type": "code",
      "source": [],
      "metadata": {
        "id": "xklpXr9pYLSA"
      },
      "execution_count": null,
      "outputs": []
    }
  ]
}
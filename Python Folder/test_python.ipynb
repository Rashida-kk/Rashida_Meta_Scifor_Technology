{
  "nbformat": 4,
  "nbformat_minor": 0,
  "metadata": {
    "colab": {
      "provenance": []
    },
    "kernelspec": {
      "name": "python3",
      "display_name": "Python 3"
    },
    "language_info": {
      "name": "python"
    }
  },
  "cells": [
    {
      "cell_type": "markdown",
      "source": [
        "1. What are Python data types?\n",
        "\n",
        "○ List the primary data types such as integers, floats, strings, lists, tuples,\n",
        "dictionaries, and sets.\n",
        "\n",
        "A. In programming we categorise data into their specific types. Python has following data types that is used to identify and categorise data:\n",
        "\n",
        "\n",
        "\n",
        "*   Numeric data types: int, float, complex.\n",
        "    \n",
        "     int     - 20\n",
        "     float   - 36.75\n",
        "     complex - 1+3j\n",
        "\n",
        "*   String data types: str.\n",
        "\n",
        "     str - \"Hello\"  \n",
        "\n",
        "*   Sequence types: list, tuple, range.\n",
        "   \n",
        "   list - [1,2,3]\n",
        "   tuple - [3,4,a,b]\n",
        "\n",
        "*   Mapping data type: dict\n",
        "\n",
        "     dict - {1:2, 2:\"b\"}\n",
        "\n",
        "*   Boolean type: bool.\n",
        "     \n",
        "     bool - True, False\n",
        "\n",
        "*   Set data types: set.\n",
        "     \n",
        "     set - {1,2,3,4}\n",
        "\n"
      ],
      "metadata": {
        "id": "izFxJ2cpIWtX"
      }
    },
    {
      "cell_type": "markdown",
      "source": [
        "2. Explain the difference between list, tuple, and set.\n",
        "\n",
        "○ Talk about mutability, ordering, and uniqueness.\n",
        "\n",
        "List: Mutable, ordered, allows duplicate elements.\n",
        "\n",
        "Tuple: Immutable, ordered, allows duplicate elements.\n",
        "\n",
        "Set: Mutable, unordered, enforces unique elements."
      ],
      "metadata": {
        "id": "rAN3SUB5K5cY"
      }
    },
    {
      "cell_type": "markdown",
      "source": [
        "3. How do you handle exceptions in Python?\n",
        "\n",
        "○ Explain the use of try, except, else, finally, and custom exceptions.\n",
        "\n",
        "In Python, exceptions are handled using\n",
        "\n",
        "try: Used to wrap the code that might raise an exception, allowing you to catch errors without crashing the program.\n",
        "\n",
        "except: Follows the try block and specifies the actions to take when a particular exception is raised.\n",
        "\n",
        "else: Executes a block of code if the try block does not raise any exceptions.\n",
        "\n",
        "finally: Executes a block of code regardless of whether an exception occurred or not, often used for cleanup actions.\n",
        "\n",
        "Custom Exceptions: Defined by creating a new class that inherits from the Exception class, allowing you to raise and handle application-specific errors."
      ],
      "metadata": {
        "id": "OOfHxgVnLugL"
      }
    },
    {
      "cell_type": "markdown",
      "source": [
        "4. What are Python decorators?\n",
        "\n",
        "○ Explain how decorators modify the behavior of functions or methods.\n",
        "\n",
        "Python decorators are functions that modify the behavior of other functions or methods by wrapping them, allowing you to add functionality before or after the original function runs without changing its code."
      ],
      "metadata": {
        "id": "mZn3ZHFNLHHt"
      }
    },
    {
      "cell_type": "markdown",
      "source": [
        "5. What is a lambda function?\n",
        "\n",
        "○ Discuss anonymous functions and the use of lambda expressions in Python.\n",
        "\n",
        "Lambda Function: A lambda function is a small, anonymous function defined using the lambda keyword, which can take any number of arguments but only one expression.\n",
        "\n",
        "    #Syntax\n",
        "    lambda arguments: expression\n",
        "\n",
        "    #Example\n",
        "    # A simple lambda function to add two numbers\n",
        "    add = lambda x, y: x + y\n",
        "\n",
        "    # Using the lambda function\n",
        "    result = add(5, 3)\n",
        "    print(result)  # Output: 8\n",
        "\n"
      ],
      "metadata": {
        "id": "3GQWd3rMMnyw"
      }
    },
    {
      "cell_type": "markdown",
      "source": [
        "6. How does Python handle multithreading?\n",
        "\n",
        "○ Talk about the Global Interpreter Lock (GIL) and the difference between\n",
        "multithreading and multiprocessing.\n",
        "\n",
        "Python handles multithreading using the threading module, but it has a Global Interpreter Lock (GIL) that allows only one thread to run Python code at a time, limiting its effectiveness for CPU-heavy tasks.\n",
        "\n",
        "\n",
        "Difference Between Multithreading and Multiprocessing:\n",
        "\n",
        "Multithreading: Uses multiple threads in the same process; good for tasks that wait for I/O but limited by the GIL for CPU tasks.\n",
        "\n",
        "\n",
        "Multiprocessing: Uses multiple processes, each with its own memory; can run tasks in parallel, making it better for CPU-heavy work."
      ],
      "metadata": {
        "id": "RhHSu0LKOTKF"
      }
    },
    {
      "cell_type": "markdown",
      "source": [
        "7. How do you work with files in Python?\n",
        "\n",
        "○ Explain file operations such as open(), read(), write(), and file modes.\n",
        "\n",
        "In Python, you work with files using the built-in open() function, which opens a file and returns a file object.\n",
        "\n",
        "File Operations:\n",
        "\n",
        "open(): Used to open a file; it takes the file path and mode as arguments (e.g., 'r' for reading, 'w' for writing).\n",
        "\n",
        "read(): Reads the content of the file; you can specify the number of bytes to read or use read() without arguments to read the entire file.\n",
        "\n",
        "write(): Writes data to a file; if the file is opened in write mode ('w'), it overwrites existing content, while in append mode ('a'), it adds to the end.\n",
        "\n",
        "File Modes:\n",
        "\n",
        "'r': Read mode (default); opens a file for reading.\n",
        "\n",
        "'w': Write mode; creates a new file or truncates an existing file.\n",
        "\n",
        "'a': Append mode; adds content to the end of the file.\n",
        "\n",
        "'b': Binary mode; used for reading or writing binary files (e.g., images).\n",
        "\n",
        "'x': Exclusive creation; fails if the file already exists.\n",
        "\n",
        "Example:\n",
        "\n",
        "    # Writing to a file\n",
        "    with open('example.txt', 'w') as file:\n",
        "    file.write('Hello, World!')\n",
        "\n",
        "    # Reading from a file\n",
        "    with open('example.txt', 'r') as file:\n",
        "    content = file.read()\n",
        "    print(content)  # Output: Hello, World!\n"
      ],
      "metadata": {
        "id": "DzgKSXxjOrZZ"
      }
    },
    {
      "cell_type": "markdown",
      "source": [
        "##OOP Implementation:\n"
      ],
      "metadata": {
        "id": "8m53A1cTPbwv"
      }
    },
    {
      "cell_type": "markdown",
      "source": [
        "1. What is Object-Oriented Programming (OOP)?\n",
        "\n",
        "○ Explain the basic principles of OOP: encapsulation, abstraction, inheritance, and\n",
        "polymorphism.\n",
        "\n",
        "Object-Oriented Programming (OOP) is a programming paradigm based on the concept of \"objects,\" which can contain data (attributes) and code (methods) to manipulate that data. OOP aims to increase the modularity and reusability of code.\n",
        "\n",
        "Basic Principles of OOP:\n",
        "\n",
        "Encapsulation: Bundling data and methods that operate on that data within a single unit (class), while restricting access to some components to protect the object's state.\n",
        "\n",
        "Abstraction: Hiding complex implementation details and exposing only essential features of an object, allowing users to interact with it without needing to understand its inner workings.\n",
        "\n",
        "Inheritance: A mechanism that allows one class (child or derived class) to inherit attributes and methods from another class (parent or base class), promoting code reuse and hierarchical classification.\n",
        "\n",
        "Polymorphism: The ability for different objects to be treated as instances of the same class through a common interface, enabling methods to be used in multiple ways based on the object that invokes them."
      ],
      "metadata": {
        "id": "1C040LK3Pekv"
      }
    },
    {
      "cell_type": "markdown",
      "source": [
        "2. What is a class and an object in Python?\n",
        "\n",
        "○ Define classes as blueprints for objects and explain how objects are instances of\n",
        "classes.\n",
        "\n",
        "A class is a blueprint for creating objects that defines a set of attributes and methods that those objects will have. Classes encapsulate data for the object and provide functions to manipulate that data.\n",
        "\n",
        "An object is an instance of a class, meaning it is a specific realization of the class blueprint with its own unique state and behavior. When a class is defined, no memory is allocated until an object is created from that class.\n",
        "\n",
        "Example:\n",
        "\n",
        "    class Dog:  # Class definition\n",
        "     def __init__(self, name, breed):\n",
        "        self.name = name  # Instance variable\n",
        "        self.breed = breed  # Instance variable\n",
        "\n",
        "    # Creating objects (instances) of the Dog class\n",
        "    dog1 = Dog(\"Buddy\", \"Golden Retriever\")\n",
        "    dog2 = Dog(\"Max\", \"Labrador\")\n",
        "\n",
        "    # Accessing attributes of the objects\n",
        "    print(dog1.name)  # Output: Buddy\n",
        "    print(dog2.breed)  # Output: Labrador\n",
        "\n",
        "In this example, Dog is a class, and dog1 and dog2 are objects (instances) of that class, each with their own unique attributes.\n"
      ],
      "metadata": {
        "id": "POTOnXeoP0py"
      }
    },
    {
      "cell_type": "markdown",
      "source": [
        "3. How do you create a class in Python?\n",
        "\n",
        "○ Show an example of class creation using the class keyword.\n",
        "\n",
        "create a class in Python using the class keyword, followed by the class name.\n",
        "\n",
        "Example:\n",
        "\n",
        "    class Car:\n",
        "     def __init__(self, make, model, year):\n",
        "        self.make = make\n",
        "        self.model = model\n",
        "        self.year = year\n"
      ],
      "metadata": {
        "id": "2uoPDvXjQzqS"
      }
    },
    {
      "cell_type": "markdown",
      "source": [
        "4. What are instance variables and class variables?\n",
        "\n",
        "○ Discuss the difference between variables defined within methods (instance\n",
        "variables) and variables shared across all instances (class variables)\n",
        "\n",
        "Instance Variables are defined within methods (typically in the __init__ method) and are unique to each instance of a class, meaning each object has its own copy.\n",
        "\n",
        "Class Variables are defined at the class level and are shared across all instances of the class, meaning all objects reference the same variable."
      ],
      "metadata": {
        "id": "aK4Nt35TR6Cp"
      }
    },
    {
      "cell_type": "markdown",
      "source": [
        "5. What is the purpose of the __init__ method?\n",
        "\n",
        "○ Explain how __init__ initializes objects and the role of the constructor.\n",
        "\n",
        "The __init__ method is the constructor in Python that initializes newly created objects by assigning values to their attributes, ensuring they start in a defined state.\n",
        "\n",
        "Example:\n",
        "\n",
        "    class Car:\n",
        "      def __init__(self, make, model):\n",
        "        self.make = make  # Initializing instance variable\n",
        "        self.model = model  # Initializing instance variable\n",
        "\n",
        "    my_car = Car(\"Toyota\", \"Corolla\")\n",
        "    print(my_car.make)  # Output: Toyota\n",
        "    print(my_car.model)  # Output: Corolla"
      ],
      "metadata": {
        "id": "Q_EtuJaGSqRh"
      }
    },
    {
      "cell_type": "markdown",
      "source": [
        "6. What are self and cls?\n",
        "\n",
        "○ Describe how self refers to the instance and cls refers to the class in methods.\n",
        "\n",
        "Self refers to the instance of a class, allowing access to instance variables and methods within that specific object, while cls refers to the class itself and is typically used in class methods to access class variables and methods.\n",
        "\n",
        "class Student:\n",
        "    school_name = \"ABC School\"  # Class variable\n",
        "\n",
        "    def __init__(self, name):\n",
        "        self.name = name  # Instance variable\n",
        "\n",
        "    @classmethod\n",
        "    def change_school(cls, new_name):\n",
        "        cls.school_name = new_name  # Accessing and modifying class variable\n",
        "\n",
        "    def display_info(self):\n",
        "        return f\"{self.name} studies at {self.school_name}\"  # Accessing instance and class variable\n",
        "\n",
        "    # Creating instances of Student\n",
        "    student1 = Student(\"Alice\")\n",
        "    student2 = Student(\"Bob\")\n",
        "\n",
        "    print(student1.display_info())  # Output: Alice studies at ABC School\n",
        "    print(student2.display_info())  # Output: Bob studies at ABC School\n",
        "\n",
        "    # Changing the school name using class method\n",
        "    Student.change_school(\"XYZ School\")\n",
        "\n",
        "    print(student1.display_info())  # Output: Alice studies at XYZ School\n",
        "    print(student2.display_info())  # Output: Bob studies at XYZ School\n",
        "\n",
        "\n",
        "In this example, self is used to access the instance variable name, while cls is used in the change_school class method to modify the class variable school_name. Changes to the class variable affect all instances of the class."
      ],
      "metadata": {
        "id": "6xe4fopHTgyM"
      }
    },
    {
      "cell_type": "markdown",
      "source": [
        "7. What is inheritance?\n",
        "\n",
        "○ Discuss how one class can inherit methods and attributes from another class.\n",
        "\n",
        "Inheritance is a way of creating a new class for using details of an\n",
        "existing class without modifying it.\n",
        "\n",
        "The newly formed class is a derived class (or child class). Similarly,\n",
        "the existing class is a base class (or parent class).\n",
        "\n",
        "    Python Inheritance Syntax\n",
        "    # define a superclass\n",
        "    class super_class:\n",
        "    # attributes and method definition\n",
        "    # inheritance\n",
        "    class sub_class(super_class):\n",
        "    # attributes and method of super_class\n",
        "    # attributes and method of sub_class\n",
        "\n",
        "Here, we are inheriting the sub_class class from the super_class class."
      ],
      "metadata": {
        "id": "iZUErwzgUjtM"
      }
    },
    {
      "cell_type": "markdown",
      "source": [
        "8. Explain method overriding and method overloading.\n",
        "\n",
        "○ Differentiate between changing the functionality of a method in a subclass\n",
        "(overriding) and using multiple methods with the same name but different\n",
        "parameters (overloading).\n",
        "\n",
        "Method Overriding occurs when a subclass provides a specific implementation of a method that is already defined in its superclass, changing its functionality for instances of the subclass.\n",
        "\n",
        "Method Overloading, on the other hand, allows multiple methods to have the same name within the same class but differ in the number or type of parameters, enabling different functionalities based on the input provided.\n",
        "\n",
        "Example of Method Overriding:\n",
        "\n",
        "    class Animal:\n",
        "     def sound(self):\n",
        "        return \"Some sound\"\n",
        "\n",
        "    class Dog(Animal):\n",
        "      def sound(self):  # Overriding the method\n",
        "        return \"Bark\"\n",
        "\n",
        "    my_dog = Dog()\n",
        "    print(my_dog.sound())  # Output: Bark\n",
        "\n",
        "Example of Method Overloading (not directly supported in Python but can be simulated):\n",
        "\n",
        "    class Calculator:\n",
        "      def add(self, a, b):\n",
        "        return a + b\n",
        "\n",
        "    def add(self, a, b, c):  # Simulating overloading\n",
        "        return a + b + c\n",
        "\n",
        "    calc = Calculator()\n",
        "    # Note: The second add method will replace the first one in Python.\n",
        "    print(calc.add(1, 2, 3))  # Output: 6\n",
        "\n",
        "\n",
        "Overriding Changing the functionality of a method in a subclass.\n",
        "\n",
        "Overloading Using multiple methods with the same name but different parameters (simulated in Python)."
      ],
      "metadata": {
        "id": "E-34JmIBWFLV"
      }
    },
    {
      "cell_type": "markdown",
      "source": [
        "9. What is multiple inheritance? How does Python handle it?\n",
        "\n",
        "Multiple inheritance is a feature in Python that allows a class to inherit from more than one parent class, combining their attributes and methods.\n",
        "\n",
        "Multiple Inheritance Syntax\n",
        "\n",
        "    class SuperClass1:\n",
        "    # features of SuperClass1\n",
        "    class SuperClass2:\n",
        "    # features of SuperClass2\n",
        "    class MultiDerived(SuperClass1, SuperClass2):\n",
        "    # features of SuperClass1 + SuperClass2 + MultiDerived class\n",
        "\n",
        "\n",
        "Example:\n",
        "\n",
        "    class Mammal:\n",
        "    def mammal_info(self):\n",
        "    print(\"Mammals can give direct birth.\")\n",
        "    class WingedAnimal:\n",
        "    def winged_animal_info(self):\n",
        "    print(\"Winged animals can flap.\")\n",
        "    class Bat(Mammal, WingedAnimal):\n",
        "    pass\n",
        "    # create an object of Bat class\n",
        "    b1 = Bat()\n",
        "    b1.mammal_info()\n",
        "    b1.winged_animal_info()\n",
        "\n",
        "Python supports multiple inheritance by allowing a class to inherit from multiple parent classes, and it uses the Method Resolution Order (MRO) to resolve conflicts by determining the order in which classes are searched for methods, following the C3 linearization algorithm.    "
      ],
      "metadata": {
        "id": "HN6c6BSZYA6X"
      }
    },
    {
      "cell_type": "markdown",
      "source": [
        "10. What are abstract classes and interfaces in Python?\n",
        "○ Discuss the use of abstract base classes (ABC) from the abc module.\n",
        "\n",
        "Abstract classes in Python are classes that cannot be instantiated and are meant to be subclassed, defining a common interface for derived classes. They can contain abstract methods, which are methods without implementation that must be overridden in subclasses.\n",
        "\n",
        "Interfaces in Python are typically implemented using abstract base classes (ABCs) from the abc module. An ABC can define abstract methods and properties that must be implemented in any concrete subclass, ensuring a consistent interface across different implementations.\n",
        "\n",
        "Example:\n",
        "\n",
        "    from abc import ABC, abstractmethod\n",
        "\n",
        "    class Animal(ABC):  # Abstract class\n",
        "      @abstractmethod\n",
        "       def speak(self):  # Abstract method\n",
        "        pass\n",
        "\n",
        "    class Dog(Animal):  # Concrete subclass\n",
        "      def speak(self):\n",
        "        return \"Bark\"\n",
        "\n",
        "    # Creating an instance of Dog\n",
        "    my_dog = Dog()\n",
        "    print(my_dog.speak())  # Output: Bark\n",
        "\n",
        "In this example, Animal is an abstract class with an abstract method speak(), which must be implemented by any subclass like Dog.\n"
      ],
      "metadata": {
        "id": "eX3-ViJ7c0zu"
      }
    },
    {
      "cell_type": "markdown",
      "source": [
        "11. What is polymorphism in Python?\n",
        "\n",
        "○ Explain how different objects can be accessed through the same interface, and\n",
        "give examples like method overriding.\n",
        "\n",
        "Polymorphism in Python refers to the ability of different objects to be accessed through the same interface, allowing methods to be used interchangeably regardless of the object's type. This is achieved through method overriding, where subclasses implement methods defined in a superclass, providing their own specific behavior.\n",
        "\n",
        "Example:\n",
        "\n",
        "    class Bird:\n",
        "      def sound(self):\n",
        "        return \"Some sound\"\n",
        "\n",
        "    class Sparrow(Bird):\n",
        "      def sound(self):\n",
        "        return \"Chirp\"\n",
        "\n",
        "    class Crow(Bird):\n",
        "      def sound(self):\n",
        "        return \"Caw\"\n",
        "\n",
        "    # Function that demonstrates polymorphism\n",
        "    def make_sound(bird):\n",
        "      print(bird.sound())  # Calls the sound method\n",
        "\n",
        "    # Creating instances of Sparrow and Crow\n",
        "    sparrow = Sparrow()\n",
        "    crow = Crow()\n",
        "\n",
        "    # Using the same interface to access different objects\n",
        "    make_sound(sparrow)  # Output: Chirp\n",
        "    make_sound(crow)     # Output: Caw\n",
        "\n",
        "In this example, the make_sound function accepts any object of type Bird and calls the sound method. Both Sparrow and Crow provide their own implementations of the sound method, demonstrating polymorphism, as the same interface (method name) is used for different behaviors.\n",
        "\n",
        "\n",
        "\n",
        "\n",
        "\n",
        "\n"
      ],
      "metadata": {
        "id": "0YLLLKORdvwP"
      }
    },
    {
      "cell_type": "markdown",
      "source": [
        "2. What is encapsulation in OOP?\n",
        "\n",
        "○ Discuss how encapsulation hides internal details and uses public methods for\n",
        "accessing private variables.\n",
        "\n",
        "Encapsulation in OOP is the practice of bundling data and methods within a class while restricting direct access to some of the object's components. It hides internal details by making variables private and providing public methods (getters and setters) for controlled access, ensuring data integrity.\n",
        "\n",
        "Example:\n",
        "\n",
        "    class BankAccount:\n",
        "     def __init__(self):\n",
        "        self.__balance = 0  # Private variable\n",
        "\n",
        "    def deposit(self, amount):\n",
        "        if amount > 0:\n",
        "            self.__balance += amount\n",
        "\n",
        "    def get_balance(self):  # Public method\n",
        "        return self.__balance\n",
        "\n",
        "    account = BankAccount()\n",
        "    account.deposit(100)\n",
        "    print(account.get_balance())  # Output: 100"
      ],
      "metadata": {
        "id": "JDWW6juZdwhK"
      }
    },
    {
      "cell_type": "markdown",
      "source": [
        "13. What are getters and setters in Python?\n",
        "\n",
        "○ Show how Python’s property() method or decorators (@property, @setter)\n",
        "can be used to create getter and setter methods.\n",
        "\n",
        "Getters and setters in Python are methods that provide controlled access to private attributes, and they can be created using the @property decorator for getters and the @setter decorator for setters.\n",
        "\n",
        "    class Circle:\n",
        "     def __init__(self, radius):\n",
        "        self.__radius = radius  # Private variable\n",
        "\n",
        "    @property\n",
        "    def radius(self):  # Getter\n",
        "        return self.__radius\n",
        "\n",
        "    @radius.setter\n",
        "    def radius(self, value):  # Setter\n",
        "        if value > 0:\n",
        "            self.__radius = value\n",
        "        else:\n",
        "            raise ValueError(\"Radius must be positive.\")\n",
        "\n",
        "    # Creating an instance of Circle\n",
        "    circle = Circle(5)\n",
        "    print(circle.radius)  # Output: 5\n",
        "    circle.radius = 10    # Using setter\n",
        "    print(circle.radius)  # Output: 10\n"
      ],
      "metadata": {
        "id": "wI8LG5fkfD-2"
      }
    },
    {
      "cell_type": "markdown",
      "source": [
        "14. How do you implement operator overloading in Python?\n",
        "\n",
        "○ Explain how methods like __add__, __sub__, etc., can overload operators.\n",
        "\n",
        "Operator overloading in Python allows you to define custom behaviors for operators by implementing special methods like __add__ for addition and __sub__ for subtraction in user-defined classes.\n",
        "\n",
        "Example:\n",
        "\n",
        "    class Vector:\n",
        "     def __init__(self, x, y):\n",
        "        self.x = x\n",
        "        self.y = y\n",
        "\n",
        "    def __add__(self, other):  # Overloading +\n",
        "        return Vector(self.x + other.x, self.y + other.y)\n",
        "\n",
        "    v1 = Vector(2, 3)\n",
        "    v2 = Vector(5, 7)\n",
        "    result = v1 + v2  # Calls v1.__add__(v2)\n",
        "    print(result.x, result.y)  # Output: 7 10"
      ],
      "metadata": {
        "id": "nkikKa0wf7vP"
      }
    },
    {
      "cell_type": "markdown",
      "source": [
        "15. What is a static method and a class method in Python?\n",
        "\n",
        "○ Clarify the difference between instance methods, static methods\n",
        "(@staticmethod), and class methods (@classmethod).\n",
        "\n",
        "instance methods operate on an instance of the class, static methods (@staticmethod) do not access class or instance variables, and class methods (@classmethod) operate on the class itself.\n",
        "\n",
        "Example:\n",
        "\n",
        "    class MyClass:\n",
        "    class_variable = \"Class variable\"\n",
        "\n",
        "    def instance_method(self):\n",
        "        return \"Instance method\"\n",
        "\n",
        "    @staticmethod\n",
        "    def static_method():\n",
        "        return \"Static method\"\n",
        "\n",
        "    @classmethod\n",
        "    def class_method(cls):\n",
        "        return cls.class_variable\n",
        "\n",
        "    # Creating an instance\n",
        "    obj = MyClass()\n",
        "\n",
        "    print(obj.instance_method())  # Output: Instance method\n",
        "    print(MyClass.static_method()) # Output: Static method\n",
        "    print(MyClass.class_method())  # Output: Class variable\n",
        "\n"
      ],
      "metadata": {
        "id": "pWoD3ucFgc9Z"
      }
    }
  ]
}
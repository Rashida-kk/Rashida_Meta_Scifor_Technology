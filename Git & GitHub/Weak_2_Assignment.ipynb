{
  "nbformat": 4,
  "nbformat_minor": 0,
  "metadata": {
    "colab": {
      "provenance": []
    },
    "kernelspec": {
      "name": "python3",
      "display_name": "Python 3"
    },
    "language_info": {
      "name": "python"
    }
  },
  "cells": [
    {
      "cell_type": "markdown",
      "source": [
        "##Git & GitHub\n",
        "\n",
        "Git: A distributed version control system that helps track changes in code, allowing multiple developers to collaborate on projects seamlessly.\n",
        "\n",
        "GitHub: A platform for hosting Git repositories with additional features like issue tracking, pull requests, and project management tools.\n",
        "\n",
        "Installation:\n",
        "\n",
        " GitHub for Windows: https://windows.github.com\n",
        "\n",
        " GitHub for Mac : https://mac.github.com\n",
        "\n",
        " Git for All Platforms : http://git-scm.com\n",
        "\n",
        "For Linux and Solaris platforms, the latest release is available on\n",
        "the official Git web site.\n",
        "\n"
      ],
      "metadata": {
        "id": "ilxR6CvAWlHX"
      }
    },
    {
      "cell_type": "markdown",
      "source": [
        "###Configuration\n",
        "\n",
        " Configure user details globally to identify commits:\n",
        "\n",
        "         git config --global user.name \"Your Name\"\n",
        "         git config --global user.email \"you@example.com\"\n",
        "\n",
        "View configurations:\n",
        "\n",
        "        git config --list\n"
      ],
      "metadata": {
        "id": "Z12hKOGAbclL"
      }
    },
    {
      "cell_type": "markdown",
      "source": [
        "###Initial Setup\n",
        "\n",
        " Set up your user information, which will be associated with your commits.\n",
        "\n",
        "        git config --global user.name \"[Firstname Lastname]\"\n",
        "        git config --global user.email \"[your-email@example.com]\"\n",
        "        git config --global color.ui auto  # Enables color-coding in the terminal\n"
      ],
      "metadata": {
        "id": "NXdcfqvvceBe"
      }
    },
    {
      "cell_type": "markdown",
      "source": [
        "Enable color-coded output:\n",
        "\n",
        "     git config --global color.ui auto"
      ],
      "metadata": {
        "id": "BzuGvil0dNEr"
      }
    },
    {
      "cell_type": "markdown",
      "source": [
        "###Setup & Init\n",
        "\n",
        "Initialize and configure repositories, locally or from hosted sources, to begin tracking changes.\n",
        "\n",
        "Initialize a repository in the current directory:\n",
        "\n",
        "      git init\n",
        "\n",
        "Clone an existing repository from a URL:\n",
        "\n",
        "      git clone [url]"
      ],
      "metadata": {
        "id": "5KGEjZ5ivl0f"
      }
    },
    {
      "cell_type": "markdown",
      "source": [
        "###Staging & Snapshots\n",
        "\n",
        "Git uses a staging area (index) to track changes before committing. Here’s how to stage, check, and commit changes.\n",
        "\n",
        "View the status of files:\n",
        "\n",
        "    git status\n",
        "\n",
        "Stage a file (add it to your next commit):\n",
        "\n",
        "    git add [file]\n",
        "\n",
        "Unstage a file (retain changes but remove it from staging):\n",
        "\n",
        "    git reset [file]\n",
        "\n",
        "View unstaged changes:\n",
        "\n",
        "    git diff\n",
        "\n",
        "View staged changes (not yet committed):\n",
        "\n",
        "    git diff --staged\n",
        "\n",
        "Commit staged changes (as a snapshot):\n",
        "\n",
        "    git commit -m \"[descriptive message]\""
      ],
      "metadata": {
        "id": "xTIYwvRgwjS5"
      }
    },
    {
      "cell_type": "markdown",
      "source": [
        "###Branch & Merge\n",
        "\n",
        "Branches allow isolated work environments within the same project, making it easier to experiment, develop features, or fix bugs.\n",
        "\n",
        "List branches in the repository (with * marking the current branch):\n",
        "\n",
        "    git branch\n",
        "\n",
        "Create a new branch:\n",
        "\n",
        "    git branch [branch-name]\n",
        "\n",
        "Switch to another branch:\n",
        "\n",
        "    git checkout [branch-name]\n",
        "\n",
        "Merge a branch into the current branch:\n",
        "\n",
        "    git merge [branch-name]\n",
        "\n",
        "View commit history:\n",
        "\n",
        "    git log"
      ],
      "metadata": {
        "id": "A7DEQOHQxSJl"
      }
    },
    {
      "cell_type": "markdown",
      "source": [
        "##Advanced Git Commands and Concepts"
      ],
      "metadata": {
        "id": "LZG8tVX2x5nB"
      }
    },
    {
      "cell_type": "markdown",
      "source": [
        "###Inspect & Compare\n",
        "\n",
        "Git provides a range of commands to inspect the repository’s commit history, view differences, and examine specific objects in detail.\n",
        "\n",
        "View commit history of the current branch:\n",
        "\n",
        "    git log\n",
        "\n",
        "Show commits in branchA that are not in branchB:\n",
        "\n",
        "    git log branchB..branchA\n",
        "\n",
        "View the history of changes to a specific file, even across renames:\n",
        "\n",
        "    git log --follow [file]\n",
        "\n",
        "Show differences between two branches:\n",
        "\n",
        "    git diff branchB...branchA\n",
        "\n",
        "Display detailed information about a specific commit using its SHA:\n",
        "\n",
        "    git show [SHA]\n"
      ],
      "metadata": {
        "id": "SFvsRGhDyJuK"
      }
    },
    {
      "cell_type": "markdown",
      "source": [
        "###Tracking Path Changes\n",
        "\n",
        "Git allows you to track changes when files are removed or moved within a repository, keeping the version history intact.\n",
        "\n",
        "Remove a file from the project and stage its deletion for commit:\n",
        "\n",
        "    git rm [file]\n",
        "\n",
        "Move or rename a file and stage the move:\n",
        "\n",
        "    git mv [existing-path] [new-path]\n",
        "\n",
        "Show logs with moved paths:\n",
        "\n",
        "    git log --stat -M"
      ],
      "metadata": {
        "id": "ic9wWCC7ytJ8"
      }
    },
    {
      "cell_type": "markdown",
      "source": [
        "###Temporary Commits (Stashing)\n",
        "\n",
        "Stashing lets you save changes temporarily when switching branches, allowing you to return to them later.\n",
        "\n",
        "Save modified and staged changes to the stash:\n",
        "\n",
        "    git stash\n",
        "\n",
        "List all stashed changes:\n",
        "\n",
        "    git stash list\n",
        "\n",
        "Apply stashed changes back to your working directory and remove them from the stash:\n",
        "\n",
        "    git stash pop\n",
        "\n",
        "Discard the top item in the stash without applying it:\n",
        "\n",
        "    git stash drop\n"
      ],
      "metadata": {
        "id": "M2cKip7TzFwg"
      }
    },
    {
      "cell_type": "markdown",
      "source": [
        "\n",
        "###Ignoring Patterns\n",
        "\n",
        "Git’s ignore feature prevents certain files from being staged or committed.\n",
        "\n",
        "Create a .gitignore file in your repository to list files and patterns for Git to ignore.\n",
        "\n",
        "Set up a global ignore file if you want to ignore patterns system-wide.\n",
        "\n",
        "Configure with:\n",
        "\n",
        "    git config --global core.excludesfile ~/.gitignore_global\n",
        "\n",
        "Using .gitignore and global ignore helps keep unwanted files out of your commits across repositories."
      ],
      "metadata": {
        "id": "ho3VUBaP3DYK"
      }
    },
    {
      "cell_type": "markdown",
      "source": [
        "###Rewrite History\n",
        "\n",
        "Rewriting history involves modifying commit history to reorder, squash, or change commits. Use these commands cautiously, especially in shared repositories.\n",
        "\n",
        "Reapply commits from the current branch onto the specified branch:\n",
        "\n",
        "    git rebase [branch]\n",
        "\n",
        "Reset the repository to a specific commit, clearing the staging area and rewriting the working directory:\n",
        "\n",
        "    git reset --hard [commit]"
      ],
      "metadata": {
        "id": "vvXs0NdHz2JW"
      }
    },
    {
      "cell_type": "markdown",
      "source": [
        "###Share & Update\n",
        "\n",
        "Managing updates with remote repositories in Git enables collaboration and keeps local repositories synchronized with the latest changes from shared sources.\n",
        "\n",
        "Add a remote repository with an alias (often \"origin\"):\n",
        "\n",
        "    git remote add [alias] [url]\n",
        "\n",
        "Fetch updates from a remote without merging:\n",
        "\n",
        "    git fetch [alias]\n",
        "\n",
        "Merge fetched updates from a remote branch:\n",
        "\n",
        "    git merge [alias]/[branch]\n",
        "\n",
        "Push changes to a remote branch:\n",
        "\n",
        "    git push [alias] [branch]\n",
        "\n",
        "Pull updates from the remote and merge them directly:\n",
        "\n",
        "    git pull"
      ],
      "metadata": {
        "id": "CIPKOEMA0ITF"
      }
    },
    {
      "cell_type": "code",
      "execution_count": null,
      "metadata": {
        "id": "JpEKPEujQXhN"
      },
      "outputs": [],
      "source": []
    }
  ]
}
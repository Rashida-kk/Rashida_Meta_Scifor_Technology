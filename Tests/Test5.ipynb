{
  "nbformat": 4,
  "nbformat_minor": 0,
  "metadata": {
    "colab": {
      "provenance": []
    },
    "kernelspec": {
      "name": "python3",
      "display_name": "Python 3"
    },
    "language_info": {
      "name": "python"
    }
  },
  "cells": [
    {
      "cell_type": "markdown",
      "source": [
        "###NLP"
      ],
      "metadata": {
        "id": "T7jyXFytBZ7a"
      }
    },
    {
      "cell_type": "markdown",
      "source": [
        "1.Write a program of text processing\n"
      ],
      "metadata": {
        "id": "OMwDUv8eBdsg"
      }
    },
    {
      "source": [
        "def text_processing(text):\n",
        "  print(\"----- Text Processing Menu -----\")\n",
        "  print(\"1. Word Count\")\n",
        "  print(\"2. Unique Words\")\n",
        "  print(\"3. Search for a Word\")\n",
        "  print(\"4. Replace a Word\")\n",
        "  print(\"5. Exit\")\n",
        "\n",
        "  while True:\n",
        "    choice = input(\"\\nChoose an option (1-5): \")\n",
        "    if choice == \"1\":\n",
        "      word_count(text)\n",
        "    elif choice == \"2\":\n",
        "      unique_words(text)\n",
        "    elif choice == \"3\":\n",
        "      search_word(text)\n",
        "    elif choice == \"4\":\n",
        "      text = replace_word(text)\n",
        "    elif choice == \"5\":\n",
        "      print(\"Exiting the program. Goodbye!\")\n",
        "      break\n",
        "    else:\n",
        "      print(\"Invalid choice. Please try again.\")\n",
        "\n",
        "def word_count(text):\n",
        "  words = text.split()\n",
        "  print(f\"The text contains {len(words)} words.\") # Changed le to len\n",
        "\n",
        "def unique_words(text):\n",
        "  words = text.split()\n",
        "  unique = set(words)\n",
        "  print(f\"The text contains {len(unique)} unique words.\") # Changed le to len\n",
        "  print(\"Unique words:\", unique)\n",
        "\n",
        "def search_word(text):\n",
        "  word = input(\"Enter a word to search for: \")\n",
        "  count = text.lower().count(word.lower()) # Fixed indentation\n",
        "  if count > 0:\n",
        "    print(f\"The word '{word}' appears {count} times in the text.\")\n",
        "  else:\n",
        "    print(f\"The word '{word}' was not found in the text.\")\n",
        "\n",
        "def replace_word(text):\n",
        "  old_word = input(\"Enter the word to be replaced: \")\n",
        "  new_word = input(\"Enter the replacement word: \")\n",
        "  updated_text = text.replace(old_word, new_word)\n",
        "  print(\"Updated text:\", updated_text)\n",
        "  return updated_text\n",
        "\n",
        "# Main Program\n",
        "if __name__ == \"__main__\":\n",
        "  sample_text = \"\"\"Python is a versatile programming language. It is widely used for web development, data analysis, artificial intelligence, and more.\"\"\"\n",
        "  print(\"Sample Text:\", sample_text)\n",
        "  text_processing(sample_text)"
      ],
      "cell_type": "code",
      "metadata": {
        "colab": {
          "base_uri": "https://localhost:8080/"
        },
        "id": "ONAdtYLiHAOF",
        "outputId": "ec6ef617-428e-4ea5-d483-88838bc468b6"
      },
      "execution_count": 2,
      "outputs": [
        {
          "output_type": "stream",
          "name": "stdout",
          "text": [
            "Sample Text: Python is a versatile programming language. It is widely used for web development, data analysis, artificial intelligence, and more.\n",
            "----- Text Processing Menu -----\n",
            "1. Word Count\n",
            "2. Unique Words\n",
            "3. Search for a Word\n",
            "4. Replace a Word\n",
            "5. Exit\n",
            "\n",
            "Choose an option (1-5): Python is a versatile programming language\n",
            "Invalid choice. Please try again.\n",
            "\n",
            "Choose an option (1-5): 4\n",
            "Enter the word to be replaced: 5\n",
            "Enter the replacement word: 3\n",
            "Updated text: Python is a versatile programming language. It is widely used for web development, data analysis, artificial intelligence, and more.\n",
            "\n",
            "Choose an option (1-5): 2\n",
            "The text contains 18 unique words.\n",
            "Unique words: {'analysis,', 'versatile', 'development,', 'is', 'a', 'web', 'artificial', 'It', 'widely', 'intelligence,', 'data', 'language.', 'programming', 'used', 'Python', 'for', 'and', 'more.'}\n",
            "\n",
            "Choose an option (1-5): 1\n",
            "The text contains 19 words.\n",
            "\n",
            "Choose an option (1-5): 5\n",
            "Exiting the program. Goodbye!\n"
          ]
        }
      ]
    },
    {
      "cell_type": "markdown",
      "source": [
        "2.Write a program to implement NLP based upon spacy\n"
      ],
      "metadata": {
        "id": "QoFja0t5Ix1o"
      }
    },
    {
      "cell_type": "code",
      "source": [
        "import spacy\n",
        "\n",
        "# Load the spaCy model\n",
        "nlp = spacy.load(\"en_core_web_sm\")\n",
        "\n",
        "# Main Function\n",
        "def simple_nlp(text):\n",
        "    doc = nlp(text)\n",
        "\n",
        "    # Tokenization\n",
        "    print(\"\\nTokens:\")\n",
        "    for token in doc:\n",
        "        print(token.text, end=\" | \")\n",
        "    print(\"\\n\")\n",
        "\n",
        "    # Named Entity Recognition (NER)\n",
        "    print(\"Named Entities:\")\n",
        "    for ent in doc.ents:\n",
        "        print(f\"{ent.text} - {ent.label_} ({spacy.explain(ent.label_)})\")\n",
        "\n",
        "    # Lemmatization\n",
        "    print(\"\\nLemmatized Words:\")\n",
        "    for token in doc:\n",
        "        print(f\"{token.text} -> {token.lemma_}\")\n",
        "\n",
        "# Main Program\n",
        "if __name__ == \"__main__\":\n",
        "    sample_text = \"Apple was founded by Steve Jobs in California in 1976.\"\n",
        "    print(\"Sample Text:\", sample_text)\n",
        "    simple_nlp(sample_text)"
      ],
      "metadata": {
        "colab": {
          "base_uri": "https://localhost:8080/"
        },
        "id": "rw4RY6KwGubG",
        "outputId": "3739f981-ad8a-4569-825f-b80e64985072"
      },
      "execution_count": 3,
      "outputs": [
        {
          "output_type": "stream",
          "name": "stdout",
          "text": [
            "Sample Text: Apple was founded by Steve Jobs in California in 1976.\n",
            "\n",
            "Tokens:\n",
            "Apple | was | founded | by | Steve | Jobs | in | California | in | 1976 | . | \n",
            "\n",
            "Named Entities:\n",
            "Apple - ORG (Companies, agencies, institutions, etc.)\n",
            "Steve Jobs - PERSON (People, including fictional)\n",
            "California - GPE (Countries, cities, states)\n",
            "1976 - DATE (Absolute or relative dates or periods)\n",
            "\n",
            "Lemmatized Words:\n",
            "Apple -> Apple\n",
            "was -> be\n",
            "founded -> found\n",
            "by -> by\n",
            "Steve -> Steve\n",
            "Jobs -> Jobs\n",
            "in -> in\n",
            "California -> California\n",
            "in -> in\n",
            "1976 -> 1976\n",
            ". -> .\n"
          ]
        }
      ]
    },
    {
      "cell_type": "markdown",
      "source": [
        "###Statistics"
      ],
      "metadata": {
        "id": "-A6zHiZYJ_JE"
      }
    },
    {
      "cell_type": "markdown",
      "source": [
        "1. Difference between descriptive and inferential statistics. Write down atleast 10-15 differences\n",
        "\n",
        "Ans:\n",
        "\n",
        "1. Definition:\n",
        "\n",
        "*   Descriptive statistics focus on summarizing and describing the characteristics of a dataset.\n",
        "*   Descriptive statistics focus on summarizing and describing the characteristics of a dataset.\n",
        "\n",
        "2.Objective:\n",
        "\n",
        "*   Descriptive statistics aim to provide a clear summary or overview of data.\n",
        "*   Inferential statistics aim to generalize results from a sample to the population.\n",
        "\n",
        "3. Data Scope:\n",
        "\n",
        "*   Descriptive statistics analyze the entire dataset without looking beyond it.\n",
        "*   Inferential statistics use a sample to make inferences about the broader population.\n",
        "\n",
        "4. Type of Analysis:\n",
        "\n",
        "*   Descriptive statistics deal with the data as it is, providing insights about its distribution and measures.\n",
        "*   Inferential statistics test hypotheses, make predictions, or estimate population parameters.\n",
        "\n",
        "5. Complexity:\n",
        "\n",
        "*   Descriptive statistics are simpler and easier to interpret.\n",
        "*   Inferential statistics are more complex, requiring probability theory and modeling.\n",
        "\n",
        "6. Uncertainty:\n",
        "\n",
        "*   Descriptive statistics provide exact results as they analyze the entire dataset.\n",
        "*   Inferential statistics include uncertainty, randomness, and potential error.\n",
        "\n",
        "7. Population vs. Sample:\n",
        "\n",
        "*   Descriptive statistics describe either the population or the sample in hand.\n",
        "*   Inferential statistics focus on the population by analyzing a representative sample.\n",
        "\n",
        "8. Probability:\n",
        "\n",
        "*   Descriptive statistics do not involve probability theory.\n",
        "*   Inferential statistics are based on probability to make generalizations.\n",
        "\n",
        "9. Error Estimation:\n",
        "\n",
        "*   Descriptive statistics do not involve error margins as they analyze complete data.\n",
        "*   Inferential statistics use margins of error and confidence levels to estimate accuracy.\n",
        "\n",
        "10. Generalization:\n",
        "\n",
        "*   Descriptive statistics do not generalize findings; they only describe observed data.\n",
        "*   Inferential statistics generalize findings from the sample to the larger population.\n",
        "\n",
        "11. Tools Used:\n",
        "\n",
        "*   Descriptive statistics use measures like mean, median, mode, range, variance, and visualizations like graphs or tables.\n",
        "*   Inferential statistics use confidence intervals, hypothesis tests, regression models, and ANOVA.\n",
        "\n",
        "12. Nature of Results:\n",
        "\n",
        "*   Descriptive statistics produce straightforward, factual summaries.\n",
        "*   Inferential statistics produce predictive and analytical insights.\n",
        "\n",
        "13. Use Cases:\n",
        "\n",
        "*   Descriptive statistics are used for survey results, student performance summaries, and basic trend analysis.\n",
        "*   Inferential statistics are used for market research, clinical trials, and opinion polling.\n",
        "\n",
        "14. Assumptions:\n",
        "\n",
        "*   Descriptive statistics assume complete data is available for analysis.\n",
        "*   Inferential statistics assume the sample is representative of the population and follows specific distribution properties.\n",
        "\n",
        "15. Example Questions:\n",
        "\n",
        "*   Descriptive statistics answer questions like, \"What is the average score in the class?\"\n",
        "*   Inferential statistics answer questions like, \"What is the average score of all students in the country likely to be?\"\n"
      ],
      "metadata": {
        "id": "8WkAir35LgbO"
      }
    },
    {
      "cell_type": "code",
      "source": [],
      "metadata": {
        "id": "wEGEPRHJQ-h6"
      },
      "execution_count": null,
      "outputs": []
    }
  ]
}
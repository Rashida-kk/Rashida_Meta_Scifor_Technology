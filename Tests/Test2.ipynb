{
  "nbformat": 4,
  "nbformat_minor": 0,
  "metadata": {
    "colab": {
      "provenance": []
    },
    "kernelspec": {
      "name": "python3",
      "display_name": "Python 3"
    },
    "language_info": {
      "name": "python"
    }
  },
  "cells": [
    {
      "cell_type": "markdown",
      "source": [
        "1. What are decorators in python? Provide a code of same\n",
        "\n",
        "Ans: Decorators in Python allow you to add extra code before or after a function runs, without modifying the original function itself.\n",
        "\n",
        "Use the @decorator_name syntax to apply a decorator to a function.\n",
        "\n",
        "Decorators add reusable functionality across functions, making code cleaner and avoiding repetition.\n",
        "\n",
        "Common Use Cases:\n",
        "\n",
        "Logging: Track when functions are called.\n",
        "\n",
        "Timing: Measure how long functions take to run.\n",
        "\n",
        "Access Control: Restrict access to certain functions.\n",
        "\n",
        "Memoization: Cache results of expensive operations for faster reuse.\n",
        "\n",
        "The decorator function takes another function (func) as input, defines extra behavior around it, and returns the modified version."
      ],
      "metadata": {
        "id": "3d0JY1ytj7wA"
      }
    },
    {
      "cell_type": "code",
      "execution_count": 1,
      "metadata": {
        "colab": {
          "base_uri": "https://localhost:8080/"
        },
        "id": "6gycXcBwjBOT",
        "outputId": "061e68d2-e839-4288-ffcc-cf47682f829d"
      },
      "outputs": [
        {
          "output_type": "stream",
          "name": "stdout",
          "text": [
            "Code before the function runs\n",
            "Hello!\n",
            "Code after the function runs\n"
          ]
        }
      ],
      "source": [
        "# Example\n",
        "# Step 1: Define the decorator\n",
        "def my_decorator(func):\n",
        "    def wrapper():\n",
        "        print(\"Code before the function runs\")\n",
        "        func()\n",
        "        print(\"Code after the function runs\")\n",
        "    return wrapper\n",
        "\n",
        "# Step 2: Use the decorator with the @ syntax\n",
        "@my_decorator\n",
        "def say_hello():\n",
        "    print(\"Hello!\")\n",
        "\n",
        "# Step 3: Call the decorated function\n",
        "say_hello()\n"
      ]
    },
    {
      "cell_type": "markdown",
      "source": [
        "2. What do you understand by method overriding and method overloading? Give the complete implementation\n",
        "\n",
        "Ans:\n",
        "\n",
        "Method Overloading\n",
        "\n",
        "Method overloading means creating multiple methods with the same name but with different numbers or types of parameters.\n",
        "\n"
      ],
      "metadata": {
        "id": "_w07T8l_pjfV"
      }
    },
    {
      "cell_type": "code",
      "source": [
        "class Greet:\n",
        "    def hello(self, name=None, times=1):\n",
        "        if name:\n",
        "            for _ in range(times):\n",
        "                print(f\"Hello, {name}!\")\n",
        "        else:\n",
        "            for _ in range(times):\n",
        "                print(\"Hello!\")\n",
        "\n",
        "# Testing method overloading behavior\n",
        "greet = Greet()\n",
        "greet.hello()                 # Output: Hello! (default message)\n",
        "greet.hello(\"Alice\")          # Output: Hello, Alice!\n",
        "greet.hello(\"Bob\", 3)         # Output: Hello, Bob! (printed 3 times)\n"
      ],
      "metadata": {
        "colab": {
          "base_uri": "https://localhost:8080/"
        },
        "id": "6SflqE77r49o",
        "outputId": "7267467e-b83f-4bca-e4f5-74703f1a9d83"
      },
      "execution_count": 2,
      "outputs": [
        {
          "output_type": "stream",
          "name": "stdout",
          "text": [
            "Hello!\n",
            "Hello, Alice!\n",
            "Hello, Bob!\n",
            "Hello, Bob!\n",
            "Hello, Bob!\n"
          ]
        }
      ]
    },
    {
      "cell_type": "markdown",
      "source": [
        "Method Overriding\n",
        "\n",
        "Method overriding happens when a subclass provides a specific implementation of a method that is already defined in its superclass."
      ],
      "metadata": {
        "id": "ryjgQnx4sKLC"
      }
    },
    {
      "cell_type": "code",
      "source": [
        "class Vehicle:\n",
        "    def fuel_type(self):\n",
        "        return \"Some generic fuel\"\n",
        "\n",
        "class Car(Vehicle):\n",
        "    def fuel_type(self):\n",
        "        return \"Petrol\"\n",
        "\n",
        "class Bike(Vehicle):\n",
        "    def fuel_type(self):\n",
        "        return \"Diesel\"\n",
        "\n",
        "# Testing method overriding behavior\n",
        "vehicles = [Vehicle(), Car(), Bike()]\n",
        "for vehicle in vehicles:\n",
        "    print(vehicle.fuel_type())\n"
      ],
      "metadata": {
        "colab": {
          "base_uri": "https://localhost:8080/"
        },
        "id": "cjd4GSpisCK-",
        "outputId": "44451ade-7ec4-4012-c8d9-d88482264da2"
      },
      "execution_count": 3,
      "outputs": [
        {
          "output_type": "stream",
          "name": "stdout",
          "text": [
            "Some generic fuel\n",
            "Petrol\n",
            "Diesel\n"
          ]
        }
      ]
    },
    {
      "cell_type": "markdown",
      "source": [
        "3. Code for hybrid inheritance"
      ],
      "metadata": {
        "id": "ZeBJ2d95sr_x"
      }
    },
    {
      "cell_type": "code",
      "source": [
        "# Base class\n",
        "class Animal:\n",
        "    def sound(self):\n",
        "        return \"Some generic animal sound\"\n",
        "\n",
        "# Derived class 1 from Animal (Hierarchical Inheritance)\n",
        "class Mammal(Animal):\n",
        "    def feed_milk(self):\n",
        "        return \"Feeds milk\"\n",
        "\n",
        "# Derived class 2 from Animal (Hierarchical Inheritance)\n",
        "class Bird(Animal):\n",
        "    def fly(self):\n",
        "        return \"Can fly\"\n",
        "\n",
        "# Derived class from both Mammal and Bird (Multiple Inheritance)\n",
        "class Bat(Mammal, Bird):\n",
        "    def bat_info(self):\n",
        "        return \"Bats are mammals that can fly\"\n",
        "\n",
        "# Testing hybrid inheritance\n",
        "animal = Animal()\n",
        "mammal = Mammal()\n",
        "bird = Bird()\n",
        "bat = Bat()\n",
        "\n",
        "\n",
        "print(animal.sound())\n",
        "print(mammal.feed_milk())\n",
        "print(bird.fly())\n",
        "print(bat.sound())\n",
        "print(bat.feed_milk())\n",
        "print(bat.fly())\n",
        "print(bat.bat_info())\n"
      ],
      "metadata": {
        "colab": {
          "base_uri": "https://localhost:8080/"
        },
        "id": "gFPpvgfBsi3I",
        "outputId": "52a4d6f3-d708-4fad-fdca-15250b41c746"
      },
      "execution_count": 4,
      "outputs": [
        {
          "output_type": "stream",
          "name": "stdout",
          "text": [
            "Some generic animal sound\n",
            "Feeds milk\n",
            "Can fly\n",
            "Some generic animal sound\n",
            "Feeds milk\n",
            "Can fly\n",
            "Bats are mammals that can fly\n"
          ]
        }
      ]
    },
    {
      "cell_type": "markdown",
      "source": [
        "4. Explain about the time complexity and space complexity of stacks, queues, Linekdin list\n",
        "\n",
        "Ans:\n",
        "\n",
        "1. Stacks\n",
        "\n",
        "Time Complexity:\n",
        "\n",
        "  Push: 𝑂(1)\n",
        "\n",
        "  Pop: 𝑂(1)\n",
        "\n",
        "  Peek: 𝑂(1)\n",
        "\n",
        "Space Complexity: 𝑂(𝑛) (where 𝑛 is the number of elements)\n",
        "\n",
        "2. Queues\n",
        "\n",
        "Time Complexity:\n",
        "\n",
        "  Enqueue (insert): 𝑂(1)\n",
        "\n",
        "  Dequeue (remove): 𝑂(1)\n",
        "\n",
        "  Peek: 𝑂(1)\n",
        "\n",
        "Space Complexity: 𝑂(𝑛) (where 𝑛 is the number of elements)\n",
        "\n",
        "3. Linked Lists\n",
        "\n",
        "Time Complexity:\n",
        "\n",
        "  Insertion at beginning: 𝑂(1)\n",
        "\n",
        "  Insertion at end: 𝑂(𝑛) (unless tail pointer is used)\n",
        "\n",
        "  Deletion at beginning: 𝑂(1)\n",
        "\n",
        "  Deletion at end: 𝑂(𝑛) (unless tail pointer is used)\n",
        "\n",
        "  Search: 𝑂(𝑛)\n",
        "\n",
        "Space Complexity: 𝑂(𝑛) (where 𝑛  is the number of nodes)"
      ],
      "metadata": {
        "id": "wTzdUZp6uIjE"
      }
    },
    {
      "cell_type": "markdown",
      "source": [
        "5. Explain any 3 widgets in Streamlit\n",
        "\n",
        "Ans: Widgets are the user interface coponents that allows you to bake interactivity directly into your apps.\n",
        "\n",
        "1. Button\n",
        "\n",
        "The st.button widget is used to create a clickable button in your Streamlit app. When the button is clicked, it can trigger an action or an event.\n",
        "\n",
        "#button\n",
        "st.button(\"submit\")\n",
        "\n",
        "2. Slider\n",
        "\n",
        "The st.slider widget allows users to select a numeric value from a specified range by sliding a handle along a scale.\n",
        "\n",
        "#slider\n",
        "st.slider(\"Age\",20, 60)\n",
        "\n",
        "3. Text Input\n",
        "\n",
        "The st.text_input widget allows users to enter a single line of text. It’s useful for gathering string inputs.\n",
        "\n",
        "#text input\n",
        "st.text_input(\"Enter your name\")"
      ],
      "metadata": {
        "id": "jgDdMKdLvS1X"
      }
    },
    {
      "cell_type": "markdown",
      "source": [
        "6. Explain session in Streamlit\n",
        "\n",
        "Ans: A session in Streamlit refers to the temporary environment where a user interacts with your web app. Each user has their own session, which allows them to interact with the app without affecting others."
      ],
      "metadata": {
        "id": "9q1Xc0520Kr_"
      }
    },
    {
      "cell_type": "markdown",
      "source": [
        "7. How will you run any file in Streamlit\n",
        "\n",
        "Run a Streamlit file using streamlit run your_file.py in the terminal after creating your Streamlit code.\n",
        "\n",
        "(In terminal type: streamlit run app.py,         (app - file name))"
      ],
      "metadata": {
        "id": "m6BP0UgE0c5U"
      }
    },
    {
      "cell_type": "markdown",
      "source": [
        "8. Plot graph such as bar chart, pie chart"
      ],
      "metadata": {
        "id": "w4n3mNrz2UKH"
      }
    },
    {
      "cell_type": "code",
      "source": [
        "import pandas as pd\n",
        "import numpy as np\n",
        "st.title(\"Bar chart\")\n",
        "\n",
        "data = pd.DataFrame(np.random.randn(50, 3), columns=[\"a\", \"b\", \"c\"])\n",
        "st.bar_chart(data)\n",
        "\n",
        "st.title(\"Pie chart\")\n",
        "pie_data = data.sum()  # Sum the columns to create a single Series\n",
        "st.pie_chart(pie_data)\n"
      ],
      "metadata": {
        "id": "I4rNCPSZuFYk"
      },
      "execution_count": null,
      "outputs": []
    }
  ]
}
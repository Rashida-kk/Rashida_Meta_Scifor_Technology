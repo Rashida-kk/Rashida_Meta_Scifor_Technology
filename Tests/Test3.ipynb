{
  "nbformat": 4,
  "nbformat_minor": 0,
  "metadata": {
    "colab": {
      "provenance": []
    },
    "kernelspec": {
      "name": "python3",
      "display_name": "Python 3"
    },
    "language_info": {
      "name": "python"
    }
  },
  "cells": [
    {
      "cell_type": "markdown",
      "source": [
        "##Python Questions"
      ],
      "metadata": {
        "id": "xyYL_TTpIN3R"
      }
    },
    {
      "cell_type": "markdown",
      "source": [
        "1.Explain the difference between lists and tuples in Python. Why might you choose one over the other?\n",
        "\n",
        "Ans: Lists are mutable, meaning their contents can be modified. They’re created with square brackets [].\n",
        "\n",
        "Tuples are immutable, so their contents can’t be changed once set. They’re created with parentheses ().\n",
        "\n",
        "Choose a list if we need a collection that might need modifications.\n",
        "\n",
        "Choose a tuple for fixed, unchangeable data or when you need faster access and efficiency with data integrity."
      ],
      "metadata": {
        "id": "1k0Y78eoB0Qp"
      }
    },
    {
      "cell_type": "markdown",
      "source": [
        "2.Write a function that takes a list of integers and returns a new list with only the even numbers.\n",
        "\n",
        "Ans:\n",
        "  \n",
        "    def get_even_numbers(numbers):\n",
        "    return [num for num in numbers if num % 2 == 0]\n",
        "\n",
        "    \n",
        "\n"
      ],
      "metadata": {
        "id": "EbAm5dzSCOww"
      }
    },
    {
      "cell_type": "code",
      "source": [
        "#EX:\n",
        "def get_even_numbers(numbers):\n",
        "   return [num for num in numbers if num % 2 == 0]\n",
        "numbers = [1, 2, 3, 4, 5, 6]\n",
        "print(get_even_numbers(numbers))"
      ],
      "metadata": {
        "colab": {
          "base_uri": "https://localhost:8080/"
        },
        "id": "-pvB-K-jGEpJ",
        "outputId": "8312e282-aa9d-4770-c1e7-5da747de3ea8"
      },
      "execution_count": 3,
      "outputs": [
        {
          "output_type": "stream",
          "name": "stdout",
          "text": [
            "[2, 4, 6]\n"
          ]
        }
      ]
    },
    {
      "cell_type": "markdown",
      "source": [
        "3.Describe how Python’s garbage collection works. What are the main methods it uses to manage memory?\n",
        "\n",
        "Ans: Python’s garbage collection (GC) manages memory by automatically freeing up unused objects, preventing memory leaks. The main methods it uses are:\n",
        "\n",
        "1. Reference Counting: Frees objects when their reference count is zero.\n",
        "\n",
        "2. Generational Garbage Collection: Manages cycles (objects referencing each other) and divides objects into generations, checking newer ones more often for efficiency.\n",
        "\n",
        "This keeps memory management automatic and effective."
      ],
      "metadata": {
        "id": "fk6X3kxDDDQp"
      }
    },
    {
      "cell_type": "markdown",
      "source": [
        "4.Given a dictionary where keys are student names and values are lists of their scores, write a function that returns the average score for each student.\n",
        "\n",
        "Ans:\n",
        "\n",
        "    def average_scores(students):\n",
        "      averages = {}\n",
        "      for name, scores in students.items():\n",
        "        averages[name] = sum(scores) / len(scores)\n",
        "      return averages\n",
        "  \n",
        "\n"
      ],
      "metadata": {
        "id": "XW_KBl48EABJ"
      }
    },
    {
      "cell_type": "code",
      "execution_count": 4,
      "metadata": {
        "colab": {
          "base_uri": "https://localhost:8080/"
        },
        "id": "cFYpIrf0A3EU",
        "outputId": "d21b21fe-4425-4b56-faae-63a07161c363"
      },
      "outputs": [
        {
          "output_type": "stream",
          "name": "stdout",
          "text": [
            "{'Alice': 84.33333333333333, 'Bob': 88.0, 'Charlie': 75.0}\n"
          ]
        }
      ],
      "source": [
        "#EX:\n",
        "def average_scores(students):\n",
        "  averages = {}\n",
        "  for name, scores in students.items():\n",
        "    averages[name] = sum(scores) / len(scores)\n",
        "  return averages\n",
        "students = {\n",
        "    \"Alice\": [85, 90, 78],\n",
        "    \"Bob\": [92, 88, 84],\n",
        "    \"Charlie\": [70, 75, 80]\n",
        "}\n",
        "print(average_scores(students))"
      ]
    },
    {
      "cell_type": "markdown",
      "source": [
        "5.What are *args and **kwargs in Python functions, and how are they used?\n",
        "\n",
        "Ans: In Python:\n",
        "\n",
        "*args allows a function to accept any number of positional arguments, collected as a tuple.\n",
        "\n",
        "**kwargs allows a function to accept any number of keyword arguments, collected as a dictionary.\n",
        "\n"
      ],
      "metadata": {
        "id": "m_9RP1ntG5QB"
      }
    },
    {
      "cell_type": "code",
      "source": [
        "#EX:\n",
        "def example(*args, **kwargs):\n",
        "    print(args)   # Positional arguments\n",
        "    print(kwargs) # Keyword arguments\n",
        "\n",
        "example(1, 2, name=\"Alice\", age=30)\n"
      ],
      "metadata": {
        "colab": {
          "base_uri": "https://localhost:8080/"
        },
        "id": "ictBTl2jHXeX",
        "outputId": "aad28b0e-6117-4f75-9347-f082eb87915a"
      },
      "execution_count": 8,
      "outputs": [
        {
          "output_type": "stream",
          "name": "stdout",
          "text": [
            "(1, 2)\n",
            "{'name': 'Alice', 'age': 30}\n"
          ]
        }
      ]
    },
    {
      "cell_type": "markdown",
      "source": [
        "##Streamlit Questions"
      ],
      "metadata": {
        "id": "jETAztXlITNa"
      }
    },
    {
      "cell_type": "markdown",
      "source": [
        "1.Explain how Streamlit’s st.cache works and why it is useful. When should you avoid using it?\n",
        "\n",
        "Ans: Streamlit’s st.cache decorator stores the results of a function to speed up subsequent calls with the same parameters, improving performance by avoiding expensive computations.\n",
        "\n",
        "Use it when:\n",
        "\n",
        "Functions are expensive (like data loading or complex calculations).\n",
        "The output is static and doesn’t change often.\n",
        "\n",
        "Avoid it when:\n",
        "\n",
        "Functions return dynamic or frequently changing data.\n",
        "The function relies on changing states or external factors.\n",
        "\n",
        "This ensures optimal performance without sacrificing data accuracy."
      ],
      "metadata": {
        "id": "9a0yahGiIaCB"
      }
    },
    {
      "cell_type": "markdown",
      "source": [
        "2.Write a simple Streamlit app that takes a user’s name as input and displays a personalized greeting message.\n"
      ],
      "metadata": {
        "id": "Xb1T1KKbI60d"
      }
    },
    {
      "cell_type": "code",
      "source": [
        "#Ans:\n",
        "import streamlit as st\n",
        "\n",
        "st.title(\"Personalized greeting app\")\n",
        "st.text_input(\"Enter your name:\")\n",
        "\n",
        "if name:\n",
        "  st.write(f\"Hello, {name}.. Welcome to the app!\")\n",
        "else:\n",
        "  st.write(\"Please enter your name to get a greeting.\")"
      ],
      "metadata": {
        "id": "4AYoaEa2HkiM"
      },
      "execution_count": null,
      "outputs": []
    },
    {
      "cell_type": "markdown",
      "source": [
        "3.Describe the st.sidebar component in Streamlit. How does it improve user experience in Streamlit applications?\n",
        "\n",
        "Ans: The st.sidebar component in Streamlit creates a sidebar for user inputs, such as sliders and dropdowns, separate from the main content.\n",
        "\n",
        "Benefits:\n",
        "\n",
        "1. Organization: Keeps the main area clean and focused.\n",
        "\n",
        "2. Accessibility: Allows easy adjustments without navigating away from content.\n",
        "\n",
        "3. Compactness: Efficiently displays multiple inputs in one space.\n",
        "\n",
        "4. Visual Appeal: Improves the overall aesthetic and usability of the app.\n",
        "\n",
        "Overall, it enhances user experience by making the app more intuitive and navigable."
      ],
      "metadata": {
        "id": "ofBwOfw_KzPK"
      }
    },
    {
      "cell_type": "markdown",
      "source": [
        "4.Create a Streamlit app that displays a line chart of random data. Allow the user to select the number of data points they want in the chart using a slider"
      ],
      "metadata": {
        "id": "RcR12KHuLtvN"
      }
    },
    {
      "cell_type": "code",
      "source": [
        "import streamlit as st\n",
        "import numpy as np\n",
        "import pandas as pd\n",
        "\n",
        "# Title of the app\n",
        "st.title(\"Random Data Line Chart\")\n",
        "\n",
        "# Slider for user to select the number of data points\n",
        "num_points = st.slider(\"Select the number of data points:\", min_value=1, max_value=100, value=10)\n",
        "\n",
        "# Generate random data\n",
        "data = np.random.randn(num_points)\n",
        "\n",
        "# Create a DataFrame for the data\n",
        "df = pd.DataFrame(data, columns=[\"Random Data\"])\n",
        "\n",
        "# Display the line chart\n",
        "st.line_chart(df)\n"
      ],
      "metadata": {
        "id": "BOlrzCFRMJ37"
      },
      "execution_count": null,
      "outputs": []
    },
    {
      "cell_type": "markdown",
      "source": [
        "5.How does Streamlit handle real-time data updates with st.button or st.checkbox? Explain a scenario where this can be useful.\n",
        "\n",
        "Ans: Streamlit handles real-time data updates with st.button and st.checkbox by rerunning the entire app script whenever a user interacts with these components.\n",
        "\n",
        "Scenario: Stock Price Dashboard\n",
        "\n",
        "Using st.button: A \"Refresh Data\" button allows users to fetch the latest stock prices from an API with each click, updating the displayed information.\n",
        "\n",
        "Using st.checkbox: A checkbox labeled \"Show Historical Data\" lets users toggle additional charts or tables that display trends based on current data.\n",
        "\n",
        "Benefits\n",
        "\n",
        "Interactivity: Enhances user experience by allowing real-time updates.\n",
        "\n",
        "Simplicity: The rerun method simplifies state management, ensuring that all changes reflect the current user input.\n",
        "\n",
        "This feature makes Streamlit apps responsive and effective for live data monitoring and analytics."
      ],
      "metadata": {
        "id": "4sXTyBxPMwmE"
      }
    }
  ]
}